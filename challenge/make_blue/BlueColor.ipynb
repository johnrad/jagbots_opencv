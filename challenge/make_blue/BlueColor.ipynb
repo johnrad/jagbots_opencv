{
 "cells": [
  {
   "cell_type": "markdown",
   "metadata": {},
   "source": [
    "# Notebook to make an image blue\n",
    "\n",
    "NOTE: if you see \"Python 2\" in the upper right, you need to install the Python3 kernel.  Please run the following:\n",
    "\n",
    "python -m pip install ipykernel\n",
    "\n",
    "python -m ipykernel install --user\n",
    "\n",
    "You will need admin privileges to run this.\n",
    "\n",
    "This is your (probably) first Jupyter notebook.  This document contains text (like this), and code blocks, like the two line block below -- these are called \"cells\".  \n",
    "\n",
    "Go ahead and click into the block below, and press the \"Enter\" key while holding the \"Control\" key (control-enter)"
   ]
  },
  {
   "cell_type": "code",
   "execution_count": 1,
   "metadata": {},
   "outputs": [
    {
     "name": "stdout",
     "output_type": "stream",
     "text": [
      "sys.version_info(major=3, minor=6, micro=3, releaselevel='final', serial=0)\n"
     ]
    }
   ],
   "source": [
    "import sys\n",
    "print(sys.version_info)"
   ]
  },
  {
   "cell_type": "markdown",
   "metadata": {},
   "source": [
    "You may not have seen much happen, since it already had a result, but the two line script ran, and printed the version information for your local Python.  If this is not (major=3, minor=6, micro=3...) or close to it, let me know!  If it is 2.7, we will have to make some adjustments to your Jupyter installation.\n",
    "\n",
    "Jupyter can be running at 2.7 even if Python 3.6.3 is what you installed -- welcome to the marvelous world of software development!\n",
    "\n",
    "Assuming everything looks okay, let's do a quick check that the needed libraries are available, so please run the code below"
   ]
  },
  {
   "cell_type": "code",
   "execution_count": 4,
   "metadata": {},
   "outputs": [
    {
     "name": "stdout",
     "output_type": "stream",
     "text": [
      "Looking good!\n"
     ]
    }
   ],
   "source": [
    "import cv2\n",
    "import numpy as np\n",
    "\n",
    "print(\"Looking good!\")"
   ]
  },
  {
   "cell_type": "markdown",
   "metadata": {},
   "source": [
    "If you got a \"looking good!\", you're all set.  If you got an error -- reach out for help\n",
    "\n",
    "Now we're going to get back to working with images in OpenCV.  Right now we are working in the BGR colorspace (Blue, Green, Red), \n",
    "this is the usual RGB world, except in alphabetical order.\n",
    "\n",
    "We're going to load an image, split it into three \"channels\", and play with it a bit.\n",
    "\n",
    "A BGR image is a 3 dimensional matrix (x,y,z).  The image we are working with is 816 pixels high, by 1232 pixels wide, \n",
    "you'll see how to determine height and width later.  That takes care of x and y, but what is z?\n",
    "\n",
    "There is a matrix of 816 by 1232 for blue, red, and green.  So the pixel at (1,1) has a value for blue, for red, and for green.\n",
    "We can split the image up into its component parts using the `cv2.split` command - which you'll see used in the block below.\n",
    "\n",
    "Go ahead and run the code...\n",
    "\n",
    "                                                                                                                      a"
   ]
  },
  {
   "cell_type": "code",
   "execution_count": 6,
   "metadata": {
    "collapsed": true
   },
   "outputs": [],
   "source": [
    "import cv2\n",
    "import numpy as np\n",
    "\n",
    "#\n",
    "# read in an image\n",
    "#\n",
    "RGBTeam = cv2.imread('../../images/Jagbots2017.jpg')\n",
    "cv2.imshow(\"Original\", RGBTeam)\n",
    "\n",
    "#\n",
    "# split image into Blue, Green, and Red (BGR)\n",
    "#\n",
    "# note that when you call imshow here, you are passing in a 2D matrix (one of the three in an RGB image)\n",
    "# so you will get a grayscale rendering of that color\n",
    "#\n",
    "BTeam, GTeam, RTeam = cv2.split(RGBTeam)\n",
    "cv2.imshow(\"Blue\",BTeam)\n",
    "\n",
    "cv2.waitKey()\n",
    "\n",
    "#\n",
    "# You can also create some blank canvases, using numpy to create a 2D matrix\n",
    "#\n",
    "\n",
    "\n",
    "#\n",
    "# Clean-up\n",
    "#\n",
    "cv2.destroyAllWindows()"
   ]
  },
  {
   "cell_type": "markdown",
   "metadata": {},
   "source": [
    "The above code loaded an image, displayed it, and then displayed just the \"blue channel\" -- but it showed as grayscale, why?\n",
    "\n",
    "The image we passed into the second cv2.imshow command -- BTeam -- has only a single channel (it is 2 dimensional).  When OpenCV gets a 2D matrix, it is going to render it as grayscale.  We'll be using grayscale images later, but right now we're looking for blue, so how do we get that?\n",
    "\n",
    "To get it to render in color, you need to give it three matrices, one for Blue, one for Red, and one for Green.\n",
    "\n",
    "If you want to show a single color, the easiest way is to pass it an \"empty\" for the other two colors.  \n",
    "\n",
    "This requires doing two things:\n",
    "* find the height and width of the image\n",
    "* create a matrix of the same size filled with zeros\n"
   ]
  },
  {
   "cell_type": "code",
   "execution_count": 2,
   "metadata": {},
   "outputs": [
    {
     "name": "stdout",
     "output_type": "stream",
     "text": [
      "Height is 816, Width is 1232\n"
     ]
    }
   ],
   "source": [
    "import cv2\n",
    "import numpy as np\n",
    "\n",
    "#\n",
    "# read in an image\n",
    "#\n",
    "RGBTeam = cv2.imread('../../images/Jagbots2017.jpg')\n",
    "cv2.imshow(\"Original\", RGBTeam)\n",
    "\n",
    "#\n",
    "# split image into Blue, Green, and Red (BGR)\n",
    "#\n",
    "# note that when you call imshow here, you are passing in a 2D matrix (one of the three in an RGB image)\n",
    "# so you will get a grayscale rendering of that color\n",
    "#\n",
    "BTeam, GTeam, RTeam = cv2.split(RGBTeam)\n",
    "cv2.imshow(\"Blue\",BTeam)\n",
    "\n",
    "cv2.waitKey()\n",
    "\n",
    "#\n",
    "# Lets find height and width of RGBTeam\n",
    "#\n",
    "(height, width) = RGBTeam.shape[:2]   # shape will return a \"tuple\" with 3 values, rows, columns and channels (if it is color)\n",
    "                                      # because we only need rows and columns, we call shape[:2] which returns 2 of the 3\n",
    "    \n",
    "print(f'Height is {height}, Width is {width}')  # this is called an f-string, very cool Python 3.6 feature!\n",
    "\n",
    "#\n",
    "# Create an empty matrix using numpy\n",
    "#\n",
    "empty = np.zeros((height,width), dtype= 'uint8') # this creates a matrix compatible with opencv, uint8 is an unsigned 8 bit integer\n",
    "\n",
    "#\n",
    "# Cleanup\n",
    "#\n",
    "cv2.destroyAllWindows()\n",
    "\n",
    "\n"
   ]
  },
  {
   "cell_type": "markdown",
   "metadata": {},
   "source": [
    "Now that you can separate the image into colors, and you can create an empty matrix of the same size, you just need to know how to put them back together again, which uses merge.  I'll demonstrate how to \"rebuild\" the original picture, and then you need to use a similar technique to build a unicolor image..."
   ]
  },
  {
   "cell_type": "code",
   "execution_count": 2,
   "metadata": {},
   "outputs": [
    {
     "name": "stdout",
     "output_type": "stream",
     "text": [
      "Height is 816, Width is 1232\n"
     ]
    }
   ],
   "source": [
    "import cv2\n",
    "import numpy as np\n",
    "\n",
    "#\n",
    "# read in an image\n",
    "#\n",
    "RGBTeam = cv2.imread('../../images/Jagbots2017.jpg')\n",
    "cv2.imshow(\"Original\", RGBTeam)\n",
    "\n",
    "#\n",
    "# split image into Blue, Green, and Red (BGR)\n",
    "#\n",
    "# note that when you call imshow here, you are passing in a 2D matrix (one of the three in an RGB image)\n",
    "# so you will get a grayscale rendering of that color\n",
    "#\n",
    "BTeam, GTeam, RTeam = cv2.split(RGBTeam)\n",
    "\n",
    "cv2.waitKey(0)\n",
    "\n",
    "#\n",
    "# Lets find height and width of RGBTeam\n",
    "#\n",
    "(height, width) = RGBTeam.shape[:2]   # shape will return a \"tuple\" with 3 values, rows, columns and channels (if it is color)\n",
    "                                      # because we only need rows and columns, we call shape[:2] which returns 2 of the 3\n",
    "    \n",
    "print(f'Height is {height}, Width is {width}')  # this is called an f-string, very cool Python 3.6 feature!\n",
    "\n",
    "#\n",
    "# Create an empty matrix using numpy\n",
    "#\n",
    "empty = np.zeros((height,width), dtype= 'uint8')\n",
    "\n",
    "#\n",
    "# Let's MERGE three channels together to make a color picture\n",
    "#\n",
    "NewColorImage = cv2.merge((BTeam, GTeam, RTeam))\n",
    "cv2.imshow(\"NewImage\", NewColorImage)\n",
    "\n",
    "cv2.waitKey()\n",
    "\n",
    "cv2.destroyAllWindows()\n"
   ]
  },
  {
   "cell_type": "markdown",
   "metadata": {},
   "source": [
    "In the code block below -- or in your own script file (you can copy and paste this), go ahead and create an image that only includes the \"blue\" channel.  You should end up with something like BlueTeam.jpg in the images directory.\n"
   ]
  },
  {
   "cell_type": "code",
   "execution_count": 1,
   "metadata": {},
   "outputs": [
    {
     "name": "stdout",
     "output_type": "stream",
     "text": [
      "Height is 816, Width is 1232\n"
     ]
    }
   ],
   "source": [
    "import cv2\n",
    "import numpy as np\n",
    "\n",
    "#\n",
    "# read in an image\n",
    "#\n",
    "RGBTeam = cv2.imread('../../images/Jagbots2017.jpg')\n",
    "cv2.imshow(\"Original\", RGBTeam)\n",
    "\n",
    "#\n",
    "# split image into Blue, Green, and Red (BGR)\n",
    "#\n",
    "# note that when you call imshow here, you are passing in a 2D matrix (one of the three in an RGB image)\n",
    "# so you will get a grayscale rendering of that color\n",
    "#\n",
    "BTeam, GTeam, RTeam = cv2.split(RGBTeam)\n",
    "\n",
    "cv2.waitKey(0)\n",
    "cv2.destroyAllWindows()\n",
    "\n",
    "#\n",
    "# Lets find height and width of RGBTeam\n",
    "#\n",
    "(height, width) = RGBTeam.shape[:2]   # shape will return a \"tuple\" with 3 values, rows, columns and channels (if it is color)\n",
    "                                      # because we only need rows and columns, we call shape[:2] which returns 2 of the 3\n",
    "    \n",
    "print(f'Height is {height}, Width is {width}')  # this is called an f-string, very cool Python 3.6 feature!\n",
    "\n",
    "#\n",
    "# Create an empty matrix using numpy\n",
    "#\n",
    "empty = np.zeros((height,width), dtype= 'uint8')\n",
    "\n",
    "#\n",
    "# Build a Blue Picture below....\n",
    "#\n",
    "\n",
    "# YOUR CODE HERE\n",
    "\n",
    "cv2.waitKey()\n",
    "\n",
    "#\n",
    "# Clean-up\n",
    "#\n",
    "cv2.destroyAllWindows()"
   ]
  }
 ],
 "metadata": {
  "kernelspec": {
   "display_name": "Python 3",
   "language": "python",
   "name": "python3"
  },
  "language_info": {
   "codemirror_mode": {
    "name": "ipython",
    "version": 3
   },
   "file_extension": ".py",
   "mimetype": "text/x-python",
   "name": "python",
   "nbconvert_exporter": "python",
   "pygments_lexer": "ipython3",
   "version": "3.6.3"
  }
 },
 "nbformat": 4,
 "nbformat_minor": 2
}
