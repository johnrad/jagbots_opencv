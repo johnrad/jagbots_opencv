{
 "cells": [
  {
   "cell_type": "markdown",
   "metadata": {},
   "source": [
    "# Color Filtering using HSV\n",
    "In the make_blue challenge, we were operating in the BGR \"colorspace\" (Blue, Green, Red), but there are other colorspaces -- including HSV (hue, saturation, value).  HSV is also three values, but they operate differently.\n",
    "\n",
    "You can get an idea by looking at this diagram:\n",
    "\n",
    "![HSV Color wheel](https://upload.wikimedia.org/wikipedia/commons/0/0d/HSV_color_solid_cylinder_alpha_lowgamma.png)\n",
    "\n",
    "The first step in leveraging HSV is to convert the image into the HSV colorspace...  Let's use our favorite image and convert to to HSV and see what it looks like.  We'll load up the image and display it standard first."
   ]
  },
  {
   "cell_type": "code",
   "execution_count": null,
   "metadata": {},
   "outputs": [],
   "source": [
    "import cv2\n",
    "import numpy as np\n",
    "import os\n",
    "\n",
    "def load_image_file(image_file):        # I used a function here to combine the test with the load\n",
    "    if(os.path.isfile(image_file)):     # os.path.isfile returns true if the file exists, why is this needed?\n",
    "\t    img = cv2.imread(image_file)\n",
    "    else:\n",
    "\t    print(\"Invalid file, exiting....\")\n",
    "\t    exit(1)\n",
    "    return(img)\n",
    "\n",
    "team_image_file = \"..\\..\\images\\Jagbots2017.jpg\"\n",
    "\n",
    "team_image_BGR = load_image_file(team_image_file)\n",
    "\n",
    "cv2.imshow(\"Image\", team_image_BGR)                          # this function will open a window with the image\n",
    "cv2.waitKey(0)                                    # this function will wait until a key is pressed\n",
    "    \n",
    "cv2.destroyAllWindows()\n"
   ]
  },
  {
   "cell_type": "markdown",
   "metadata": {},
   "source": [
    "So we've loaded it up, now let's convert it to the HSV colorspace.  This next snippet requires that the above code has been run, so be sure you ran it!\n",
    "\n",
    "We're going to create a new image in the HSV colorspace.  This conversion is similar to converting to Grayscale, but it produces an image that is color, but not the same colors..."
   ]
  },
  {
   "cell_type": "code",
   "execution_count": null,
   "metadata": {
    "collapsed": true
   },
   "outputs": [],
   "source": [
    "# convert from BGR to HSV\n",
    "#\n",
    "team_image_HSV = cv2.cvtColor(team_image_BGR, cv2.COLOR_BGR2HSV)\n",
    "\n",
    "cv2.imshow(\"HSV Image\", team_image_HSV)\n",
    "cv2.waitKey(0)\n",
    "\n",
    "cv2.destroyAllWindows()"
   ]
  },
  {
   "cell_type": "markdown",
   "metadata": {},
   "source": [
    "If it all worked correctly, you're seeing a pretty different image -- like one that was taken using a nuclear camera flash.\n",
    "\n",
    "Obviously we are not doing this to make it prettier to human eyes -- so why bother?  We convert to HSV for the same reason we will often convert to Grayscale, it makes it easier to perform other operations -- like color filtering.\n",
    "\n",
    "Since we are going to be chasing the reflective tape used by FIRST, let's switch to a sample image from last season..."
   ]
  },
  {
   "cell_type": "code",
   "execution_count": 3,
   "metadata": {},
   "outputs": [],
   "source": [
    "import cv2\n",
    "import numpy as np\n",
    "import os\n",
    "\n",
    "def load_image_file(image_file):        # I used a function here to combine the test with the load\n",
    "    if(os.path.isfile(image_file)):     # os.path.isfile returns true if the file exists, why is this needed?\n",
    "\t    img = cv2.imread(image_file)\n",
    "    else:\n",
    "\t    print(\"Invalid file, exiting....\")\n",
    "\t    exit(1)\n",
    "    return(img)\n",
    "\n",
    "image_file = \"../../images/tape_sample_images/sample7.png\"\n",
    "\n",
    "image_BGR = load_image_file(image_file)\n",
    "\n",
    "cv2.imshow(\"Image\", image_BGR)                  # this function will open a window with the image\n",
    "cv2.waitKey(0)                                  # this function will wait until a key is pressed\n",
    "    \n",
    "\n",
    "# convert from BGR to HSV\n",
    "#\n",
    "image_HSV = cv2.cvtColor(image_BGR, cv2.COLOR_BGR2HSV)\n",
    "\n",
    "cv2.imshow(\"HSV Image\", image_HSV)\n",
    "cv2.waitKey(0)\n",
    "\n",
    "cv2.destroyAllWindows()"
   ]
  },
  {
   "cell_type": "markdown",
   "metadata": {},
   "source": [
    "Looking at these images, you get an idea of why that tape is so special -- it really stands out.  Now let's try to filter for that color..."
   ]
  },
  {
   "cell_type": "code",
   "execution_count": 22,
   "metadata": {},
   "outputs": [],
   "source": [
    "# define range of green color in HSV\n",
    "lower_tape = np.array([50,90,110])\n",
    "upper_tape = np.array([100,255,255])\n",
    "\n",
    "# Threshold the HSV image to get only blue colors\n",
    "mask = cv2.inRange(image_HSV, lower_tape, upper_tape)\n",
    "\n",
    "# Bitwise-AND mask and original image\n",
    "res = cv2.bitwise_and(image_BGR,image_BGR, mask= mask)\n",
    "\n",
    "cv2.imshow('image',image_BGR)\n",
    "cv2.imshow('mask',mask)\n",
    "cv2.imshow('res',res)\n",
    "\n",
    "# Let's define our kernel size\n",
    "kernel = np.ones((5,5), np.uint8)\n",
    "\n",
    "# Now we erode\n",
    "erosion = cv2.erode(res, kernel, iterations = 1)\n",
    "cv2.imshow('Erosion', erosion)\n",
    "\n",
    "cv2.waitKey(0)\n",
    "\n",
    "cv2.destroyAllWindows()"
   ]
  }
 ],
 "metadata": {
  "kernelspec": {
   "display_name": "Python 3",
   "language": "python",
   "name": "python3"
  },
  "language_info": {
   "codemirror_mode": {
    "name": "ipython",
    "version": 3
   },
   "file_extension": ".py",
   "mimetype": "text/x-python",
   "name": "python",
   "nbconvert_exporter": "python",
   "pygments_lexer": "ipython3",
   "version": "3.6.3"
  }
 },
 "nbformat": 4,
 "nbformat_minor": 2
}
