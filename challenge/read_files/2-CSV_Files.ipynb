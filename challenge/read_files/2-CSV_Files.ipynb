{
 "cells": [
  {
   "cell_type": "markdown",
   "metadata": {},
   "source": [
    "# 2. Working with CSV files\n",
    "\n",
    "We're going to build on what we did in the last notebook, and focus in on playing with csv files.  There are a lot of good resources available, and I'm going to point you to a short YouTube video I liked (warning, it's a bit quirky) -- but this notebook will give you the basics.\n",
    "\n",
    "The video is here: (https://youtu.be/Xi52tx6phRU)\n",
    "\n",
    "## Our CSV file\n",
    "\n",
    "Let's use the roster file that we used in the first notebook.  You'll remember we could load it using the following code:\n",
    "\n",
    "```python\n",
    "filename = \"roster.csv\"\n",
    "\n",
    "with open(filename) as file_obj:   # with just a plain open command, the file will be opened for \"read\" access\n",
    "    lines = file_obj.readlines()\n",
    "```\n",
    "   \n",
    "If we wanted to use this method, we would have to split the lines where the commas are.  There is a better way, but let's see how we would do in raw python first"
   ]
  },
  {
   "cell_type": "code",
   "execution_count": 2,
   "metadata": {},
   "outputs": [
    {
     "name": "stdout",
     "output_type": "stream",
     "text": [
      "['Name', 'Team', 'Safety Trained', 'Years', 'Grade']\n",
      "['Bob', 'Programming', 'Y', '2', '11']\n",
      "['Sally', 'Build', 'N', '3', '12']\n",
      "['Karim', 'Safety', 'Y', '1', '9']\n",
      "['Luther', 'Programming', 'N', '1', '10']\n",
      "['Crystal', 'Programming', 'Y', '2', '10']\n",
      "['Lex', 'Build', 'Y', '3', '12']\n",
      "['Rachel', 'Safety', 'Y', '1', '11']\n"
     ]
    }
   ],
   "source": [
    "filename = \"roster.csv\"\n",
    "\n",
    "with open(filename) as file_obj:   # with just a plain open command, the file will be opened for \"read\" access\n",
    "    lines = file_obj.readlines()\n",
    "\n",
    "for line in lines:\n",
    "    values = line.strip().split(',')\n",
    "    print(values)\n",
    "    "
   ]
  },
  {
   "cell_type": "markdown",
   "metadata": {},
   "source": [
    "As you can see, *because I know all of you read the Python Crash Course*, we take the string that we read for each line, and convert it to a list that we print out.  This is the key line:\n",
    "\n",
    "```python\n",
    "values = line.strip().split(',')\n",
    "```\n",
    "\n",
    "In this line, \"line\" is the variable with a string (e.g. \"Bob,Programming,Y,2,11\\n\").  The \"strip()\" call removes the '\\n\", and the \"split(',')\" returns a list of values ( ['Bob','Programming','Y','2','11'] ).  If that doesn't make sense, you may actually want to read the Python Crash Course!\n",
    "\n",
    "Assuming that did make sense, it might occur to you that what we just did isn't all that helpful, as I only have the last member in the \"values\" line (since we were overwriting it in the loop).  Let's do something more helpful..."
   ]
  },
  {
   "cell_type": "code",
   "execution_count": 3,
   "metadata": {},
   "outputs": [
    {
     "name": "stdout",
     "output_type": "stream",
     "text": [
      "[['Name', 'Team', 'Safety Trained', 'Years', 'Grade'], ['Bob', 'Programming', 'Y', '2', '11'], ['Sally', 'Build', 'N', '3', '12'], ['Karim', 'Safety', 'Y', '1', '9'], ['Luther', 'Programming', 'N', '1', '10'], ['Crystal', 'Programming', 'Y', '2', '10'], ['Lex', 'Build', 'Y', '3', '12'], ['Rachel', 'Safety', 'Y', '1', '11']]\n"
     ]
    }
   ],
   "source": [
    "filename = \"roster.csv\"\n",
    "\n",
    "with open(filename) as file_obj:   # with just a plain open command, the file will be opened for \"read\" access\n",
    "    lines = file_obj.readlines()\n",
    "    \n",
    "members = []     # I'm creating an empty list for members to put the values in\n",
    "    \n",
    "for line in lines:\n",
    "    values = line.strip().split(',')\n",
    "    members.append(values)   # this will add the latest entry into the members list\n",
    "    \n",
    "print(members)  # the output of this is a \"list of lists\""
   ]
  },
  {
   "cell_type": "markdown",
   "metadata": {},
   "source": [
    "So you may wonder why this is useful, so let's do something with the information.  We'll do a couple of things with it, just to prove you can -- and to show a bit more syntax, but we're just scratching the surface."
   ]
  },
  {
   "cell_type": "code",
   "execution_count": 19,
   "metadata": {
    "scrolled": true
   },
   "outputs": [
    {
     "name": "stdout",
     "output_type": "stream",
     "text": [
      "{'Programming': ['Bob', 'Luther', 'Crystal'], 'Build': ['Sally', 'Lex'], 'Safety': ['Karim', 'Rachel']}\n",
      "\n",
      "\n",
      "FRC Sub-teams\n",
      "\n",
      "Programming\n",
      "\tBob\n",
      "\tLuther\n",
      "\tCrystal\n",
      "Build\n",
      "\tSally\n",
      "\tLex\n",
      "Safety\n",
      "\tKarim\n",
      "\tRachel\n",
      "\n",
      "We have 5 members trained, out of 8 total members\n",
      "62.5% are trained\n"
     ]
    }
   ],
   "source": [
    "teams = {}  # we're going to use a Python dictionary to capture the members of the sub-teams\n",
    "safety = 0  # let's see how many members are trained in safety\n",
    "\n",
    "for member in members[1:]:   # I'm using \"slicing\" here (e.g. [1:]) -- I want to skip the first line, which is headers\n",
    "    # we are going to build a python dictionary of teams -- which means we'll create an entry for the team when we\n",
    "    # first see it, and add to it after that\n",
    "    \n",
    "    if member[1] in teams.keys():\n",
    "        teams[member[1]].append(member[0])    # we are appending a member to an existing team\n",
    "    else:\n",
    "        teams[member[1]]=[member[0]]          # we are adding a new team to our teams list, and creating a list with a member\n",
    "        \n",
    "    if member[2]=='Y':   # safety trained?\n",
    "        safety = safety + 1\n",
    "        \n",
    "print(teams)  # let's print it and see  \n",
    "\n",
    "# let's do a somewhat nicer print\n",
    "print(\"\\n\\nFRC Sub-teams\\n\")\n",
    "\n",
    "for team,team_members in teams.items():\n",
    "    print(team)\n",
    "    for member in team_members:\n",
    "        print(f\"\\t{member}\")\n",
    "\n",
    "print()\n",
    "        \n",
    "# let's see how we're doing on Safety\n",
    "print(f\"We have {safety} members trained, out of {len(members)} total members\")\n",
    "\n",
    "percent_trained = (safety/len(members)*100)\n",
    "print(f\"{percent_trained}% are trained\")"
   ]
  },
  {
   "cell_type": "markdown",
   "metadata": {},
   "source": [
    "So, that gives you kind of an idea of how you can play with data using data structures and looping.  There are lots of ways to do this (and when you deal in large amounts of data there are special libraries), but hopefully you get the idea."
   ]
  },
  {
   "cell_type": "markdown",
   "metadata": {},
   "source": [
    "## Writing Data into CSV (using basic Python)\n",
    "\n",
    "A major reason to learn how to work with files is so that all of your data is not lost when your script stops running, and one method is to write data to files.  If you write data to a CSV file, aside from being able to use what you've learned to read it, you can also open it in a spreadsheet -- which can be a major advantage.\n",
    "\n",
    "If you are writing a lot of data, and want to analyze it later, it can be very helpful to be able to look at it in a spreadsheet.\n",
    "\n",
    "There are many ways to accomplish this in basic Python.  Below I'll demonstrate one way to create a csv file, but keep in mind there are many ways (we'll look at another using the csv module).\n",
    "\n",
    "In the sample below, I'm going to generate some \"fake data\" (I'll use a random number generator to simulate readings from a sensor).  This is a really trivial example, but the mechanics of saving the data would work for anything."
   ]
  },
  {
   "cell_type": "code",
   "execution_count": 30,
   "metadata": {},
   "outputs": [],
   "source": [
    "import random     # we'll use a function from here to generate our sensor data\n",
    "import datetime   # we'll timestamp our sensor data\n",
    "\n",
    "# let's create (define) a function to simulate a sensor reading\n",
    "\n",
    "def read_sensor():\n",
    "    read_time = \"{}\".format(datetime.datetime.now())  # this is another way to format a string\n",
    "    \n",
    "    read_data = random.normalvariate(100,5)\n",
    "    return(read_time,read_data)\n",
    "\n",
    "# First, let's generate a small dataset (100 items), and then write it to a file\n",
    "\n",
    "small_data_set = []   # create an empty list to append to\n",
    "small_data_set.append((\"Datetime\",\"Sensor_Reading\"))   # adding a header row\n",
    "\n",
    "for i in range(100):\n",
    "    small_data_set.append(read_sensor())  # read_sensor returns a 2 value tuple (datetime, reading), which we'll add to this list\n",
    "    \n",
    "# now let's write this to a file\n",
    "with open('small_data_set.csv','w') as sds_out:\n",
    "    for line in small_data_set:\n",
    "        formatted_line = \",\".join(map(str,line))  # what the heck?  \n",
    "                                                  #   Okay...  We want to join the values in the line into a single string\n",
    "                                                  #            with commas inbetween.  So we would write \",\".join(line) \n",
    "                                                  #            this would create a string with all the values in line, with a\n",
    "                                                  #            comma between them.  But our sensor data is a float, not a string\n",
    "                                                  #            so we are going to convert everything to a string, which is \n",
    "                                                  #            what \"map(str,line)\" does.  It will \"map\" each value in line to\n",
    "                                                  #            the function \"str\" -- which makes everything a string...\n",
    "        sds_out.write(f\"{formatted_line}\\n\")  # write it to a file, and add a \"newline\" \n"
   ]
  },
  {
   "cell_type": "markdown",
   "metadata": {},
   "source": [
    "Okay, there is a lot going on in the code above, and I'll explain a bit -- but if you have questions, reach out to me on Slack (@johnrad), or find me at a meeting.  \n",
    "\n",
    "```python\n",
    "def read_sensor():\n",
    "```\n",
    "This is a function definition.  Once we define a function, we can call it from other parts of the code.  In this case, we will call it 100 times in a loop to generate some sensor data to write to a file\n",
    "\n",
    "```python\n",
    "for i in range(100):\n",
    "    small_data_set.append(read_sensor())\n",
    "```\n",
    "This is a loop.  The range function generates numbers, in this case it will go from 0 to 99.  This is a very common use of range to create a loop that will run 100 times.  \n",
    "\n",
    "small_data_set is a Python list, and we can add a new element to the list with \"append\".  You can call the \"read_sensor\" function (as we are) inside of append.  What happens is that \"read_sensor\" is called, and returns a two element \"tuple\" (like a list, but cannot be changed), which is then appended to the small_data_set list.\n",
    "\n",
    "If this is a bit confusing, just stick with it, believe it or not the ability to do this stuff is why people love Python so much!  In the end, we have a python list (small_data_set) that contains 101 2 value tuples (a header, and 100 sensor readings).\n",
    "\n",
    "```python\n",
    "for line in small_data_set:\n",
    "        formatted_line = \",\".join(map(str,line))\n",
    "        ```\n",
    "This is the last code snippet I'll explain here.  Hopefully you're getting used to the \"for xxxx in xxxx:\" syntax.  Here, small_data_set has 101 elements, and we want to write each out to a file.  The for loop will keep processing them one at a time until its done.\n",
    "\n",
    "The next line is a bit tricky, but it helps to remember what we are trying to do.  In each case we have a tuple ('2017-12-10', 10.25) and we want a string we can write to a file \"2017-12-10, 10.25\".  Python strings have a \"join\" method that will join things using the string, so if we write \",\".join((\"jack\",\"jill\",\"pail\")), we will get \"jack,jill,pail\".\n",
    "\n",
    "This is great, but what is the \"map\" thing?  Well, the join function can only work on strings, and our sensor data is a number (a \"float\", to be precise).  We can convert it with the \"str\" function.  map(str, line) will \"map\" the str function to everything in \"line\"  (I'm sure this makes perfect sense!).\n",
    "\n",
    "Let me give a quick example.  Suppose you have a list of numbers num_list, like this [ 2.0, 3, 5.15, 6.8 ].\n",
    "\n",
    "If I call \"str_list = map(str, num_list)\", it will return [ '2.0', '3', '5.15', '6.8' ], basically returning a list of strings.  Note that the other list (num_list) is still there, and still numbers -- this call creates a new one.\n",
    "\n",
    "The proof is on the file system though -- go ahead and find the \"small_data_set.csv\" file, and open it in either an editor or a spreadsheet (or both).  \n",
    "\n",
    "This is kind of a pain though, and you'd think it would be easier all around -- and it is!  We're going to look next at the csv module and how it helps make all of this a lot easier."
   ]
  }
 ],
 "metadata": {
  "kernelspec": {
   "display_name": "Python 3",
   "language": "python",
   "name": "python3"
  },
  "language_info": {
   "codemirror_mode": {
    "name": "ipython",
    "version": 3
   },
   "file_extension": ".py",
   "mimetype": "text/x-python",
   "name": "python",
   "nbconvert_exporter": "python",
   "pygments_lexer": "ipython3",
   "version": "3.6.3"
  }
 },
 "nbformat": 4,
 "nbformat_minor": 2
}
