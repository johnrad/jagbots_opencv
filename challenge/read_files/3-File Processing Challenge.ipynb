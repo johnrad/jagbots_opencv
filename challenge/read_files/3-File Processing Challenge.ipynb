{
 "cells": [
  {
   "cell_type": "markdown",
   "metadata": {},
   "source": [
    "# File Processing Challenge\n",
    "The programming challenge here is to process multiple files to create multiple output files (one for each sensor).  This should ensure you are comfortable with handling files, and also give you a chance to try out your general Python coding skills.\n",
    "\n",
    "It is great to help each other out, but be sure you understand your design -- and realize that there are many ways to solve this problem.\n",
    "\n",
    "## Input Files\n",
    "**Sensor_List.csv**\n",
    "    This is a csv file with a list of sensors, and the name of the file you should write their output to, the format of the\n",
    "    file is:\n",
    "    *sensor_name* -- string\n",
    "    *filename to put data in* -- string\n",
    "    \n",
    "**Sensor_Data.csv**\n",
    "    This is a csv file with a jumbled mess of sensor readings. You need to read these, determine what sensor it is for,\n",
    "    and write it to the correct file.  Each sensor reading should be written to only one file.  The format of this file is:\n",
    "    *sensor_name* -- string\n",
    "    *reading data* -- 1-4 fields, which may be strings, floats, or integers (all the lines are not the same).  Each sensor\n",
    "                      will have different data, but all data for a given sensor will have the same format\n",
    "\n",
    "### So, if you were given this input data\n",
    "Sample sensor_list.csv:\n",
    "    \"doohickie\", \"dhk.csv\"\n",
    "    \"widget\", \"widget.csv\"\n",
    "    \"spanner\", \"xk1.csv\"\n",
    "    \n",
    "Sample sensor_data.csv:\n",
    "    \"doohickie\", 1.3, \"red\"\n",
    "    \"widget\", 2, 4, 3\n",
    "    \"spanner\", 1.56\n",
    "    \"widget\", 5, 6, 8\n",
    "    \"doohickie\", 2.8, \"blue\"\n",
    "    \"doohickie\", 3.2, \"orange\"\n",
    "    \n",
    "### You should end up writing these files:\n",
    "    *dhk.csv*\n",
    "        \"doohickie\", 1.3, \"red\"\n",
    "        \"doohickie\", 2.8, \"blue\"\n",
    "        \"doohickie\", 3.2, \"orange\"\n",
    "        \n",
    "    *widget.csv\"*\n",
    "        \"widget\", 2, 4, 3\n",
    "        \"widget\", 5, 6, 8\n",
    "        \n",
    "    *xk1.csv*\n",
    "        \"spanner\", 1.56\n",
    "        \n",
    "**Note that the above are examples.  The only filenames you are sure of at the beginning are *sensor_list.csv* and\n",
    "*sensor_data.csv*  (though you can easily look inside sensor_list.csv to see the output filenames...)\n",
    "\n",
    "## Good Luck, and please ping me on Slack if you have questions/challenges.  You can easily share code or notebooks over Slack as well\n",
    "\n",
    "You can write your Python code in normal .py files, or using Jupyter notebooks.  In either case, please embed your Slack username in the file name (e.g.  \"johnrad_file_challenge.py\" or \"johnrad_file_challenge.ipynb\")\n",
    "\n",
    "To create a new Jupyter notebook, just click \"File\" (in the menu bar of this notebook) --> New Notebook --> Python 3"
   ]
  }
 ],
 "metadata": {
  "kernelspec": {
   "display_name": "Python 3",
   "language": "python",
   "name": "python3"
  },
  "language_info": {
   "codemirror_mode": {
    "name": "ipython",
    "version": 3
   },
   "file_extension": ".py",
   "mimetype": "text/x-python",
   "name": "python",
   "nbconvert_exporter": "python",
   "pygments_lexer": "ipython3",
   "version": "3.6.3"
  }
 },
 "nbformat": 4,
 "nbformat_minor": 2
}
