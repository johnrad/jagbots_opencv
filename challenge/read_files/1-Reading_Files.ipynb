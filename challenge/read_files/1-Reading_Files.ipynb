{
 "cells": [
  {
   "cell_type": "markdown",
   "metadata": {},
   "source": [
    "# Reading Files\n",
    "Working with files is a key capability to make use of Python.  Files are the most basic form of \"persistence\".  Persistence is about making data available beyond the life of the script/program you are running. \n",
    "\n",
    "Normally in a computer program, all of the data stored in variables \"goes away\" when the program terminates.  This is because when a program completes, it releases the memory it was using, which is what contained all of the data.\n",
    "\n",
    "To get around this, we can \"write\" the data (store it) to a file on the computer (you can also store data in a database, but that is a topic for a later time...).  When the program terminates, the file remains, and it can be \"opened\" and \"read\" by another script.\n",
    "\n",
    "Before we write a file though, let's see what's it like to read from a file.\n",
    "\n",
    "I have a file with a roster of (fictitious) FRC members.  This file is a \"commas separated values\" or \"csv\" file.  All this means is the individual pieces of data (name, team, are they safety trained, etc) are all separated by commas.  By doing this, it makes it easy to work with the data (we'll do this in the next notebook).  You can also open the file in Excel -- in fact, if you look at the file in Windows Explorer and open it, it will probably open in Excel."
   ]
  },
  {
   "cell_type": "code",
   "execution_count": 2,
   "metadata": {},
   "outputs": [
    {
     "name": "stdout",
     "output_type": "stream",
     "text": [
      "['Name,Team,Safety Trained,Years,Grade\\n', 'Bob,Programming,Y,2,11\\n', 'Sally,Build,N,3,12\\n', 'Karim,Safety,Y,1,9\\n', 'Luther,Programming,N,1,10\\n', 'Crystal,Programming,Y,2,10\\n', 'Lex,Build,Y,3,12\\n', 'Rachel,Safety,Y,1,11\\n']\n",
      "Name,Team,Safety Trained,Years,Grade\n",
      "\n",
      "Bob,Programming,Y,2,11\n",
      "\n",
      "Sally,Build,N,3,12\n",
      "\n",
      "Karim,Safety,Y,1,9\n",
      "\n",
      "Luther,Programming,N,1,10\n",
      "\n",
      "Crystal,Programming,Y,2,10\n",
      "\n",
      "Lex,Build,Y,3,12\n",
      "\n",
      "Rachel,Safety,Y,1,11\n",
      "\n"
     ]
    }
   ],
   "source": [
    "filename = \"roster.csv\"\n",
    "\n",
    "with open(filename) as file_obj:   # with just a plain open command, the file will be opened for \"read\" access\n",
    "    lines = file_obj.readlines()\n",
    "    \n",
    "print(lines)  # this will print the python list\n",
    "\n",
    "for line in lines:   # this loop will print each line.  There will be a line between each line as well\n",
    "    print(line)\n",
    "    \n",
    "    "
   ]
  },
  {
   "cell_type": "markdown",
   "metadata": {},
   "source": [
    "In the above code, the \"with\" command will take care of the file's lifecycle.  What I mean is that once you are done with the file, the with clause will close it without having to take care of it.  This is a good Python practice, though you can also call \"close()\" on your own.\n",
    "\n",
    "The \"readlines()\" function will pull all the lines of the file into a Python list, which we then iterate through with a \"for\" loop and print.  If you want to process each line of a file as it comes in though, there is another way"
   ]
  },
  {
   "cell_type": "code",
   "execution_count": 3,
   "metadata": {},
   "outputs": [
    {
     "name": "stdout",
     "output_type": "stream",
     "text": [
      "Name,Team,Safety Trained,Years,Grade\n",
      "\n",
      "Bob,Programming,Y,2,11\n",
      "\n",
      "Sally,Build,N,3,12\n",
      "\n",
      "Karim,Safety,Y,1,9\n",
      "\n",
      "Luther,Programming,N,1,10\n",
      "\n",
      "Crystal,Programming,Y,2,10\n",
      "\n",
      "Lex,Build,Y,3,12\n",
      "\n",
      "Rachel,Safety,Y,1,11\n",
      "\n"
     ]
    }
   ],
   "source": [
    "filename = \"roster.csv\"\n",
    "\n",
    "with open(filename) as file_obj:\n",
    "    for line in file_obj:\n",
    "        print(line)\n",
    "        "
   ]
  },
  {
   "cell_type": "markdown",
   "metadata": {},
   "source": [
    "You may have noticed everything is double-spaced, but the file (if you look at it) isn't.  Python's read function is adding a '\\n' (newline) character to the end of each line as it reads it.  You can get rid of this with another command \"rstrip()\".  Try this code"
   ]
  },
  {
   "cell_type": "code",
   "execution_count": 11,
   "metadata": {},
   "outputs": [
    {
     "name": "stdout",
     "output_type": "stream",
     "text": [
      "joe loves Python!\n",
      "bob loves Python!\n",
      "sally loves Python!\n",
      "dave wants to use ROS...\n",
      "mike wants to use ROS...\n",
      "chris wants to use ROS...\n",
      "rick wants to use ROS...\n"
     ]
    }
   ],
   "source": [
    "filename = \"roster.csv\"\n",
    "\n",
    "with open(filename) as file_obj:\n",
    "    for line in file_obj:\n",
    "        print(line.rstrip())"
   ]
  },
  {
   "cell_type": "markdown",
   "metadata": {},
   "source": [
    "But you may just want to read the entire file into a single variable -- which you can also do:"
   ]
  },
  {
   "cell_type": "code",
   "execution_count": 4,
   "metadata": {},
   "outputs": [
    {
     "name": "stdout",
     "output_type": "stream",
     "text": [
      "Name,Team,Safety Trained,Years,Grade\n",
      "Bob,Programming,Y,2,11\n",
      "Sally,Build,N,3,12\n",
      "Karim,Safety,Y,1,9\n",
      "Luther,Programming,N,1,10\n",
      "Crystal,Programming,Y,2,10\n",
      "Lex,Build,Y,3,12\n",
      "Rachel,Safety,Y,1,11\n",
      "\n"
     ]
    }
   ],
   "source": [
    "with open(filename) as file_obj:\n",
    "    contents = file_obj.read()\n",
    "    \n",
    "    \n",
    "print(contents)"
   ]
  },
  {
   "cell_type": "markdown",
   "metadata": {},
   "source": [
    "This is covered in much more detail in the Python Crash Course Book in Chapter 10"
   ]
  },
  {
   "cell_type": "markdown",
   "metadata": {},
   "source": [
    "## Writing Files\n",
    "\n",
    "But how do we get data into files?\n",
    "\n",
    "Basically, we open a file for writing, and we use some calls to write to it..."
   ]
  },
  {
   "cell_type": "code",
   "execution_count": 9,
   "metadata": {},
   "outputs": [],
   "source": [
    "outfile = \"output.txt\"\n",
    "\n",
    "with open(outfile,'w') as outFile_obj:\n",
    "    for name in ['joe', 'bob', 'sally']:\n",
    "        outFile_obj.write(f\"{name} loves Python!\\n\")\n",
    "        "
   ]
  },
  {
   "cell_type": "markdown",
   "metadata": {},
   "source": [
    "So go take a look in the directory, and see if you have a file named \"output.txt\", and see what's in it.  Go ahead, we'll wait."
   ]
  },
  {
   "cell_type": "markdown",
   "metadata": {},
   "source": [
    "## Append to a file\n",
    "\n",
    "Last thing I want to touch on is \"appending\" to a file.  This is where your file already exists, and you want to add to it without overwriting the data you've already got.  Suppose you were logging readings from a sensor, and didn't want to mess up any previous readings that might have been collected.\n",
    "\n",
    "In the next snippet we'll add some lines to the roster.txt file, and we won't overwrite what we've got in there.  If you've opened the file to look at it, you may have an issue depending on whether the program you opened it in \"locks\" it -- so you're forewarned!\n",
    "\n"
   ]
  },
  {
   "cell_type": "code",
   "execution_count": 10,
   "metadata": {
    "collapsed": true
   },
   "outputs": [],
   "source": [
    "with open(outfile,'a') as outFile_obj:    # note the 'a' -- that is for append\n",
    "    for name in ['dave','mike','chris','rick']:\n",
    "        outFile_obj.write(f\"{name} wants to use ROS...\\n\")\n",
    "        \n"
   ]
  },
  {
   "cell_type": "markdown",
   "metadata": {},
   "source": [
    "### Read the file you wrote\n",
    "\n",
    "In the code block below, go ahead and write some code to read the file you just wrote, and print out each line."
   ]
  },
  {
   "cell_type": "code",
   "execution_count": null,
   "metadata": {
    "collapsed": true
   },
   "outputs": [],
   "source": [
    "input_file = \"output.txt\"\n",
    "\n",
    "# Your code here....\n"
   ]
  },
  {
   "cell_type": "markdown",
   "metadata": {},
   "source": [
    "## What's next?\n",
    "\n",
    "This covers some basics, you can get more details in the Python Crash Course, chapter 10.  In the next notebook, we'll play a little more with csv, since that can be a really useful way to store data...."
   ]
  }
 ],
 "metadata": {
  "kernelspec": {
   "display_name": "Python 3",
   "language": "python",
   "name": "python3"
  },
  "language_info": {
   "codemirror_mode": {
    "name": "ipython",
    "version": 3
   },
   "file_extension": ".py",
   "mimetype": "text/x-python",
   "name": "python",
   "nbconvert_exporter": "python",
   "pygments_lexer": "ipython3",
   "version": "3.6.3"
  }
 },
 "nbformat": 4,
 "nbformat_minor": 2
}
